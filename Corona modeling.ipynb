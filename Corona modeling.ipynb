{
 "cells": [
  {
   "cell_type": "markdown",
   "metadata": {},
   "source": [
    "<img src=\"http://imgur.com/1ZcRyrc.png\" style=\"float: left; margin: 20px; height: 55px\">\n",
    "<img src=\"https://misk.org.sa/miskacademy/wp-content/uploads/sites/5/2019/04/ma-logo-1.png\" style=\"float: left; margin: 20px; height: 55px\">\n",
    "\n",
    "\n",
    "\n",
    "# Modeling   \n",
    "### Corona"
   ]
  },
  {
   "cell_type": "code",
   "execution_count": 270,
   "metadata": {},
   "outputs": [],
   "source": [
    "import pandas as pd \n",
    "import numpy as np\n",
    "from datetime import datetime\n",
    "from matplotlib import pyplot as plt\n",
    "import seaborn as sns\n",
    "%matplotlib inline\n",
    "import sklearn\n",
    "from sklearn import tree\n",
    "from IPython.display import Image\n",
    "from sklearn.tree import export_graphviz\n",
    "from sklearn.externals.six import StringIO\n",
    "import pydotplus"
   ]
  },
  {
   "cell_type": "code",
   "execution_count": 271,
   "metadata": {},
   "outputs": [],
   "source": [
    "cor=pd.read_excel('corona new.xlsx')"
   ]
  },
  {
   "cell_type": "code",
   "execution_count": 272,
   "metadata": {},
   "outputs": [
    {
     "data": {
      "text/plain": [
       "(1088, 20)"
      ]
     },
     "execution_count": 272,
     "metadata": {},
     "output_type": "execute_result"
    }
   ],
   "source": [
    "## the dataset contain 1088 raws and 20 feature\n",
    "cor.shape"
   ]
  },
  {
   "cell_type": "code",
   "execution_count": 273,
   "metadata": {},
   "outputs": [
    {
     "data": {
      "text/html": [
       "<div>\n",
       "<style scoped>\n",
       "    .dataframe tbody tr th:only-of-type {\n",
       "        vertical-align: middle;\n",
       "    }\n",
       "\n",
       "    .dataframe tbody tr th {\n",
       "        vertical-align: top;\n",
       "    }\n",
       "\n",
       "    .dataframe thead th {\n",
       "        text-align: right;\n",
       "    }\n",
       "</style>\n",
       "<table border=\"1\" class=\"dataframe\">\n",
       "  <thead>\n",
       "    <tr style=\"text-align: right;\">\n",
       "      <th></th>\n",
       "      <th>Unnamed: 0</th>\n",
       "      <th>Country</th>\n",
       "      <th>City</th>\n",
       "      <th>Month_of_infection</th>\n",
       "      <th>Season</th>\n",
       "      <th>Sex</th>\n",
       "      <th>Age</th>\n",
       "      <th>Infection_Causes</th>\n",
       "      <th>Traveling</th>\n",
       "      <th>Contact_Animal</th>\n",
       "      <th>Medical_state_before</th>\n",
       "      <th>Medical_state_after</th>\n",
       "      <th>Deaths_or_recovered</th>\n",
       "      <th>Month_of_death_recovered</th>\n",
       "      <th>Infection_Month</th>\n",
       "      <th>Infection_Year</th>\n",
       "      <th>Death_Month</th>\n",
       "      <th>Death_Year</th>\n",
       "      <th>Survived</th>\n",
       "      <th>Age_bins</th>\n",
       "    </tr>\n",
       "  </thead>\n",
       "  <tbody>\n",
       "    <tr>\n",
       "      <th>0</th>\n",
       "      <td>0</td>\n",
       "      <td>Qatar</td>\n",
       "      <td>Doha</td>\n",
       "      <td>2012-09-01</td>\n",
       "      <td>Autumn</td>\n",
       "      <td>Male</td>\n",
       "      <td>49</td>\n",
       "      <td>unknown</td>\n",
       "      <td>Yes</td>\n",
       "      <td>No</td>\n",
       "      <td>good condition</td>\n",
       "      <td>unknown</td>\n",
       "      <td>death</td>\n",
       "      <td>2013-06-01</td>\n",
       "      <td>9</td>\n",
       "      <td>2012</td>\n",
       "      <td>6.0</td>\n",
       "      <td>2013.0</td>\n",
       "      <td>0</td>\n",
       "      <td>adult</td>\n",
       "    </tr>\n",
       "    <tr>\n",
       "      <th>1</th>\n",
       "      <td>1</td>\n",
       "      <td>Saudi Arabia</td>\n",
       "      <td>Asir</td>\n",
       "      <td>2012-06-01</td>\n",
       "      <td>summer</td>\n",
       "      <td>Male</td>\n",
       "      <td>60</td>\n",
       "      <td>unknown</td>\n",
       "      <td>No</td>\n",
       "      <td>Yes</td>\n",
       "      <td>good condition</td>\n",
       "      <td>unknown</td>\n",
       "      <td>death</td>\n",
       "      <td>2012-06-01</td>\n",
       "      <td>6</td>\n",
       "      <td>2012</td>\n",
       "      <td>6.0</td>\n",
       "      <td>2012.0</td>\n",
       "      <td>0</td>\n",
       "      <td>old</td>\n",
       "    </tr>\n",
       "    <tr>\n",
       "      <th>2</th>\n",
       "      <td>2</td>\n",
       "      <td>Qatar</td>\n",
       "      <td>Doha</td>\n",
       "      <td>2012-10-01</td>\n",
       "      <td>Autumn</td>\n",
       "      <td>Male</td>\n",
       "      <td>51</td>\n",
       "      <td>unknown</td>\n",
       "      <td>No</td>\n",
       "      <td>No</td>\n",
       "      <td>good condition</td>\n",
       "      <td>Stable</td>\n",
       "      <td>recovered</td>\n",
       "      <td>NaT</td>\n",
       "      <td>10</td>\n",
       "      <td>2012</td>\n",
       "      <td>NaN</td>\n",
       "      <td>NaN</td>\n",
       "      <td>1</td>\n",
       "      <td>adult</td>\n",
       "    </tr>\n",
       "    <tr>\n",
       "      <th>3</th>\n",
       "      <td>3</td>\n",
       "      <td>Saudi Arabia</td>\n",
       "      <td>Alhasa</td>\n",
       "      <td>2012-10-01</td>\n",
       "      <td>Autumn</td>\n",
       "      <td>Male</td>\n",
       "      <td>70</td>\n",
       "      <td>unknown</td>\n",
       "      <td>No</td>\n",
       "      <td>No</td>\n",
       "      <td>good condition</td>\n",
       "      <td>unknown</td>\n",
       "      <td>death</td>\n",
       "      <td>2012-10-01</td>\n",
       "      <td>10</td>\n",
       "      <td>2012</td>\n",
       "      <td>10.0</td>\n",
       "      <td>2012.0</td>\n",
       "      <td>0</td>\n",
       "      <td>old</td>\n",
       "    </tr>\n",
       "    <tr>\n",
       "      <th>4</th>\n",
       "      <td>5</td>\n",
       "      <td>Saudi Arabia</td>\n",
       "      <td>Alhasa</td>\n",
       "      <td>2012-10-01</td>\n",
       "      <td>Autumn</td>\n",
       "      <td>Male</td>\n",
       "      <td>31</td>\n",
       "      <td>Direct Contact</td>\n",
       "      <td>No</td>\n",
       "      <td>No</td>\n",
       "      <td>good condition</td>\n",
       "      <td>Stable</td>\n",
       "      <td>recovered</td>\n",
       "      <td>2013-11-01</td>\n",
       "      <td>10</td>\n",
       "      <td>2012</td>\n",
       "      <td>11.0</td>\n",
       "      <td>2013.0</td>\n",
       "      <td>1</td>\n",
       "      <td>adult</td>\n",
       "    </tr>\n",
       "  </tbody>\n",
       "</table>\n",
       "</div>"
      ],
      "text/plain": [
       "   Unnamed: 0       Country    City Month_of_infection  Season   Sex  Age  \\\n",
       "0           0         Qatar    Doha         2012-09-01  Autumn  Male   49   \n",
       "1           1  Saudi Arabia    Asir         2012-06-01  summer  Male   60   \n",
       "2           2         Qatar    Doha         2012-10-01  Autumn  Male   51   \n",
       "3           3  Saudi Arabia  Alhasa         2012-10-01  Autumn  Male   70   \n",
       "4           5  Saudi Arabia  Alhasa         2012-10-01  Autumn  Male   31   \n",
       "\n",
       "  Infection_Causes Traveling Contact_Animal Medical_state_before  \\\n",
       "0          unknown       Yes             No       good condition   \n",
       "1          unknown        No            Yes       good condition   \n",
       "2          unknown        No             No       good condition   \n",
       "3          unknown        No             No       good condition   \n",
       "4   Direct Contact        No             No       good condition   \n",
       "\n",
       "  Medical_state_after Deaths_or_recovered Month_of_death_recovered  \\\n",
       "0             unknown               death               2013-06-01   \n",
       "1             unknown               death               2012-06-01   \n",
       "2              Stable           recovered                      NaT   \n",
       "3             unknown               death               2012-10-01   \n",
       "4              Stable           recovered               2013-11-01   \n",
       "\n",
       "   Infection_Month  Infection_Year  Death_Month  Death_Year  Survived Age_bins  \n",
       "0                9            2012          6.0      2013.0         0    adult  \n",
       "1                6            2012          6.0      2012.0         0      old  \n",
       "2               10            2012          NaN         NaN         1    adult  \n",
       "3               10            2012         10.0      2012.0         0      old  \n",
       "4               10            2012         11.0      2013.0         1    adult  "
      ]
     },
     "execution_count": 273,
     "metadata": {},
     "output_type": "execute_result"
    }
   ],
   "source": [
    "cor.head()"
   ]
  },
  {
   "cell_type": "code",
   "execution_count": 274,
   "metadata": {},
   "outputs": [
    {
     "data": {
      "text/plain": [
       "Unnamed: 0                    0\n",
       "Infection_Year                0\n",
       "Infection_Month               0\n",
       "Deaths_or_recovered           0\n",
       "Medical_state_after           0\n",
       "Medical_state_before          0\n",
       "Survived                      0\n",
       "Traveling                     0\n",
       "Contact_Animal                0\n",
       "Age                           0\n",
       "Sex                           0\n",
       "Season                        0\n",
       "Month_of_infection            0\n",
       "City                          0\n",
       "Country                       0\n",
       "Infection_Causes              0\n",
       "Age_bins                      0\n",
       "Month_of_death_recovered    207\n",
       "Death_Month                 207\n",
       "Death_Year                  207\n",
       "dtype: int64"
      ]
     },
     "execution_count": 274,
     "metadata": {},
     "output_type": "execute_result"
    }
   ],
   "source": [
    "##check missing values\n",
    "cor.isnull().sum().sort_values()"
   ]
  },
  {
   "cell_type": "code",
   "execution_count": 275,
   "metadata": {},
   "outputs": [],
   "source": [
    "## delet some unuseful columns\n",
    "del cor['Month_of_death_recovered']\n",
    "del cor['Death_Month']\n",
    "del cor['Death_Year']\n",
    "del cor['Unnamed: 0']\n",
    "del cor['Month_of_infection']"
   ]
  },
  {
   "cell_type": "code",
   "execution_count": 276,
   "metadata": {},
   "outputs": [
    {
     "data": {
      "text/plain": [
       "Index(['Country', 'City', 'Season', 'Sex', 'Age', 'Infection_Causes',\n",
       "       'Traveling', 'Contact_Animal', 'Medical_state_before',\n",
       "       'Medical_state_after', 'Deaths_or_recovered', 'Infection_Month',\n",
       "       'Infection_Year', 'Survived', 'Age_bins'],\n",
       "      dtype='object')"
      ]
     },
     "execution_count": 276,
     "metadata": {},
     "output_type": "execute_result"
    }
   ],
   "source": [
    "## read the columns name\n",
    "cor.columns"
   ]
  },
  {
   "cell_type": "markdown",
   "metadata": {},
   "source": [
    "###  create dummy variables"
   ]
  },
  {
   "cell_type": "code",
   "execution_count": 277,
   "metadata": {},
   "outputs": [],
   "source": [
    "cor=pd.get_dummies(cor,columns=['Country'])"
   ]
  },
  {
   "cell_type": "code",
   "execution_count": 278,
   "metadata": {},
   "outputs": [],
   "source": [
    "cor=pd.get_dummies(cor,columns=['Age_bins'])"
   ]
  },
  {
   "cell_type": "code",
   "execution_count": 279,
   "metadata": {},
   "outputs": [],
   "source": [
    "cor=pd.get_dummies(cor,columns=['City'])"
   ]
  },
  {
   "cell_type": "code",
   "execution_count": 280,
   "metadata": {},
   "outputs": [],
   "source": [
    "cor=pd.get_dummies(cor,columns=['Season'])"
   ]
  },
  {
   "cell_type": "code",
   "execution_count": 281,
   "metadata": {},
   "outputs": [],
   "source": [
    "cor=pd.get_dummies(cor,columns=['Contact_Animal'])"
   ]
  },
  {
   "cell_type": "code",
   "execution_count": 282,
   "metadata": {},
   "outputs": [],
   "source": [
    "cor=pd.get_dummies(cor,columns=['Medical_state_before'])"
   ]
  },
  {
   "cell_type": "code",
   "execution_count": 283,
   "metadata": {},
   "outputs": [],
   "source": [
    "cor=pd.get_dummies(cor,columns=['Medical_state_after'])"
   ]
  },
  {
   "cell_type": "code",
   "execution_count": 284,
   "metadata": {},
   "outputs": [],
   "source": [
    "cor=pd.get_dummies(cor,columns=['Infection_Causes'])"
   ]
  },
  {
   "cell_type": "code",
   "execution_count": 285,
   "metadata": {},
   "outputs": [],
   "source": [
    "cor=pd.get_dummies(cor,columns=['Traveling'])"
   ]
  },
  {
   "cell_type": "code",
   "execution_count": 286,
   "metadata": {},
   "outputs": [],
   "source": [
    "cor=pd.get_dummies(cor,columns=['Sex'])"
   ]
  },
  {
   "cell_type": "code",
   "execution_count": 287,
   "metadata": {},
   "outputs": [],
   "source": [
    "cor=pd.get_dummies(cor,columns=['Infection_Month'])"
   ]
  },
  {
   "cell_type": "code",
   "execution_count": 288,
   "metadata": {},
   "outputs": [],
   "source": [
    "cor=pd.get_dummies(cor,columns=['Infection_Year'])"
   ]
  },
  {
   "cell_type": "code",
   "execution_count": 289,
   "metadata": {},
   "outputs": [
    {
     "data": {
      "text/html": [
       "<div>\n",
       "<style scoped>\n",
       "    .dataframe tbody tr th:only-of-type {\n",
       "        vertical-align: middle;\n",
       "    }\n",
       "\n",
       "    .dataframe tbody tr th {\n",
       "        vertical-align: top;\n",
       "    }\n",
       "\n",
       "    .dataframe thead th {\n",
       "        text-align: right;\n",
       "    }\n",
       "</style>\n",
       "<table border=\"1\" class=\"dataframe\">\n",
       "  <thead>\n",
       "    <tr style=\"text-align: right;\">\n",
       "      <th></th>\n",
       "      <th>Age</th>\n",
       "      <th>Deaths_or_recovered</th>\n",
       "      <th>Survived</th>\n",
       "      <th>Country_Algeria</th>\n",
       "      <th>Country_Austria</th>\n",
       "      <th>Country_China</th>\n",
       "      <th>Country_Egypt</th>\n",
       "      <th>Country_France</th>\n",
       "      <th>Country_Germany</th>\n",
       "      <th>Country_Greece</th>\n",
       "      <th>...</th>\n",
       "      <th>Infection_Month_7</th>\n",
       "      <th>Infection_Month_8</th>\n",
       "      <th>Infection_Month_9</th>\n",
       "      <th>Infection_Month_10</th>\n",
       "      <th>Infection_Month_11</th>\n",
       "      <th>Infection_Month_12</th>\n",
       "      <th>Infection_Year_2012</th>\n",
       "      <th>Infection_Year_2013</th>\n",
       "      <th>Infection_Year_2014</th>\n",
       "      <th>Infection_Year_2015</th>\n",
       "    </tr>\n",
       "  </thead>\n",
       "  <tbody>\n",
       "    <tr>\n",
       "      <th>0</th>\n",
       "      <td>49</td>\n",
       "      <td>death</td>\n",
       "      <td>0</td>\n",
       "      <td>0</td>\n",
       "      <td>0</td>\n",
       "      <td>0</td>\n",
       "      <td>0</td>\n",
       "      <td>0</td>\n",
       "      <td>0</td>\n",
       "      <td>0</td>\n",
       "      <td>...</td>\n",
       "      <td>0</td>\n",
       "      <td>0</td>\n",
       "      <td>1</td>\n",
       "      <td>0</td>\n",
       "      <td>0</td>\n",
       "      <td>0</td>\n",
       "      <td>1</td>\n",
       "      <td>0</td>\n",
       "      <td>0</td>\n",
       "      <td>0</td>\n",
       "    </tr>\n",
       "    <tr>\n",
       "      <th>1</th>\n",
       "      <td>60</td>\n",
       "      <td>death</td>\n",
       "      <td>0</td>\n",
       "      <td>0</td>\n",
       "      <td>0</td>\n",
       "      <td>0</td>\n",
       "      <td>0</td>\n",
       "      <td>0</td>\n",
       "      <td>0</td>\n",
       "      <td>0</td>\n",
       "      <td>...</td>\n",
       "      <td>0</td>\n",
       "      <td>0</td>\n",
       "      <td>0</td>\n",
       "      <td>0</td>\n",
       "      <td>0</td>\n",
       "      <td>0</td>\n",
       "      <td>1</td>\n",
       "      <td>0</td>\n",
       "      <td>0</td>\n",
       "      <td>0</td>\n",
       "    </tr>\n",
       "    <tr>\n",
       "      <th>2</th>\n",
       "      <td>51</td>\n",
       "      <td>recovered</td>\n",
       "      <td>1</td>\n",
       "      <td>0</td>\n",
       "      <td>0</td>\n",
       "      <td>0</td>\n",
       "      <td>0</td>\n",
       "      <td>0</td>\n",
       "      <td>0</td>\n",
       "      <td>0</td>\n",
       "      <td>...</td>\n",
       "      <td>0</td>\n",
       "      <td>0</td>\n",
       "      <td>0</td>\n",
       "      <td>1</td>\n",
       "      <td>0</td>\n",
       "      <td>0</td>\n",
       "      <td>1</td>\n",
       "      <td>0</td>\n",
       "      <td>0</td>\n",
       "      <td>0</td>\n",
       "    </tr>\n",
       "    <tr>\n",
       "      <th>3</th>\n",
       "      <td>70</td>\n",
       "      <td>death</td>\n",
       "      <td>0</td>\n",
       "      <td>0</td>\n",
       "      <td>0</td>\n",
       "      <td>0</td>\n",
       "      <td>0</td>\n",
       "      <td>0</td>\n",
       "      <td>0</td>\n",
       "      <td>0</td>\n",
       "      <td>...</td>\n",
       "      <td>0</td>\n",
       "      <td>0</td>\n",
       "      <td>0</td>\n",
       "      <td>1</td>\n",
       "      <td>0</td>\n",
       "      <td>0</td>\n",
       "      <td>1</td>\n",
       "      <td>0</td>\n",
       "      <td>0</td>\n",
       "      <td>0</td>\n",
       "    </tr>\n",
       "    <tr>\n",
       "      <th>4</th>\n",
       "      <td>31</td>\n",
       "      <td>recovered</td>\n",
       "      <td>1</td>\n",
       "      <td>0</td>\n",
       "      <td>0</td>\n",
       "      <td>0</td>\n",
       "      <td>0</td>\n",
       "      <td>0</td>\n",
       "      <td>0</td>\n",
       "      <td>0</td>\n",
       "      <td>...</td>\n",
       "      <td>0</td>\n",
       "      <td>0</td>\n",
       "      <td>0</td>\n",
       "      <td>1</td>\n",
       "      <td>0</td>\n",
       "      <td>0</td>\n",
       "      <td>1</td>\n",
       "      <td>0</td>\n",
       "      <td>0</td>\n",
       "      <td>0</td>\n",
       "    </tr>\n",
       "  </tbody>\n",
       "</table>\n",
       "<p>5 rows × 160 columns</p>\n",
       "</div>"
      ],
      "text/plain": [
       "   Age Deaths_or_recovered  Survived  Country_Algeria  Country_Austria  \\\n",
       "0   49               death         0                0                0   \n",
       "1   60               death         0                0                0   \n",
       "2   51           recovered         1                0                0   \n",
       "3   70               death         0                0                0   \n",
       "4   31           recovered         1                0                0   \n",
       "\n",
       "   Country_China  Country_Egypt  Country_France  Country_Germany  \\\n",
       "0              0              0               0                0   \n",
       "1              0              0               0                0   \n",
       "2              0              0               0                0   \n",
       "3              0              0               0                0   \n",
       "4              0              0               0                0   \n",
       "\n",
       "   Country_Greece  ...  Infection_Month_7  Infection_Month_8  \\\n",
       "0               0  ...                  0                  0   \n",
       "1               0  ...                  0                  0   \n",
       "2               0  ...                  0                  0   \n",
       "3               0  ...                  0                  0   \n",
       "4               0  ...                  0                  0   \n",
       "\n",
       "   Infection_Month_9  Infection_Month_10  Infection_Month_11  \\\n",
       "0                  1                   0                   0   \n",
       "1                  0                   0                   0   \n",
       "2                  0                   1                   0   \n",
       "3                  0                   1                   0   \n",
       "4                  0                   1                   0   \n",
       "\n",
       "   Infection_Month_12  Infection_Year_2012  Infection_Year_2013  \\\n",
       "0                   0                    1                    0   \n",
       "1                   0                    1                    0   \n",
       "2                   0                    1                    0   \n",
       "3                   0                    1                    0   \n",
       "4                   0                    1                    0   \n",
       "\n",
       "   Infection_Year_2014  Infection_Year_2015  \n",
       "0                    0                    0  \n",
       "1                    0                    0  \n",
       "2                    0                    0  \n",
       "3                    0                    0  \n",
       "4                    0                    0  \n",
       "\n",
       "[5 rows x 160 columns]"
      ]
     },
     "execution_count": 289,
     "metadata": {},
     "output_type": "execute_result"
    }
   ],
   "source": [
    "cor.head()"
   ]
  },
  {
   "cell_type": "code",
   "execution_count": 290,
   "metadata": {},
   "outputs": [
    {
     "data": {
      "text/plain": [
       "['Age',\n",
       " 'Deaths_or_recovered',\n",
       " 'Survived',\n",
       " 'Country_Algeria',\n",
       " 'Country_Austria',\n",
       " 'Country_China',\n",
       " 'Country_Egypt',\n",
       " 'Country_France',\n",
       " 'Country_Germany',\n",
       " 'Country_Greece',\n",
       " 'Country_Iran',\n",
       " 'Country_Jordan',\n",
       " 'Country_Kuwait',\n",
       " 'Country_Lebanon',\n",
       " 'Country_Malaysia',\n",
       " 'Country_Netherlands',\n",
       " 'Country_Oman',\n",
       " 'Country_Philippines',\n",
       " 'Country_Qatar',\n",
       " 'Country_Saudi Arabia',\n",
       " 'Country_South Korea',\n",
       " 'Country_Spain',\n",
       " 'Country_Thailand',\n",
       " 'Country_Tunisia',\n",
       " 'Country_Turkey',\n",
       " 'Country_United Arab Emirates',\n",
       " 'Country_United Kingdom',\n",
       " 'Country_United States',\n",
       " 'Country_Yemen',\n",
       " 'Age_bins_adult',\n",
       " 'Age_bins_child',\n",
       " 'Age_bins_old',\n",
       " 'City_Abha',\n",
       " 'City_Abqaiq',\n",
       " 'City_Abu dhabi',\n",
       " 'City_Afif',\n",
       " 'City_Aflaj',\n",
       " 'City_Al-Dawadmi',\n",
       " 'City_AlKharj',\n",
       " 'City_AlQahmah',\n",
       " 'City_Albadaya',\n",
       " 'City_Aldilam',\n",
       " 'City_Algeria',\n",
       " 'City_Alhanakiah',\n",
       " 'City_Alhasa',\n",
       " 'City_Aljouf',\n",
       " 'City_Alkhafji',\n",
       " 'City_Almkwhah ',\n",
       " 'City_Alnumas',\n",
       " 'City_Aloyon',\n",
       " 'City_Alras',\n",
       " 'City_Alzulfi',\n",
       " 'City_Amman',\n",
       " 'City_Amsterdam',\n",
       " 'City_Arar',\n",
       " 'City_Asfan',\n",
       " 'City_Asir',\n",
       " 'City_Athens',\n",
       " 'City_Bangkok',\n",
       " 'City_Batinah',\n",
       " 'City_Berlin',\n",
       " 'City_Bisha',\n",
       " 'City_Buraidah',\n",
       " 'City_Cairo',\n",
       " 'City_Daher',\n",
       " 'City_Dahran',\n",
       " 'City_Dakhla',\n",
       " 'City_Dammam',\n",
       " 'City_Doha',\n",
       " 'City_Duba',\n",
       " 'City_Dubai',\n",
       " 'City_Eastren Region',\n",
       " 'City_Hadramout',\n",
       " 'City_Hafar AlBatin',\n",
       " 'City_Hafuf',\n",
       " 'City_Hail',\n",
       " 'City_Harad',\n",
       " 'City_Hatay',\n",
       " 'City_Hawaya',\n",
       " 'City_Hawtat bni Tamim',\n",
       " 'City_Hong Kong',\n",
       " 'City_Huraymila',\n",
       " 'City_Incheon',\n",
       " 'City_Jeddah',\n",
       " 'City_Johor',\n",
       " 'City_Jubail',\n",
       " 'City_Kahnuj',\n",
       " 'City_Kerman',\n",
       " 'City_Khamis Mushait',\n",
       " 'City_Khobar',\n",
       " 'City_Kuwait',\n",
       " 'City_Lebanon',\n",
       " 'City_London',\n",
       " 'City_Madinah',\n",
       " 'City_Madrid ',\n",
       " 'City_Manila',\n",
       " 'City_Mecca',\n",
       " 'City_Muscat',\n",
       " 'City_Najran',\n",
       " 'City_Onaizah',\n",
       " 'City_Paris',\n",
       " 'City_Qassim',\n",
       " 'City_Qiya',\n",
       " 'City_Qunfudhah',\n",
       " 'City_Quriyat',\n",
       " 'City_Quwaiya',\n",
       " 'City_Rafha',\n",
       " 'City_Riyadh',\n",
       " 'City_Runiah',\n",
       " 'City_Shahanea',\n",
       " 'City_Shaqra',\n",
       " 'City_Sharjah',\n",
       " 'City_Skaka',\n",
       " 'City_Tabuk',\n",
       " 'City_Taif',\n",
       " 'City_Taima',\n",
       " 'City_Tarabh',\n",
       " 'City_Tunisia',\n",
       " 'City_Vienna',\n",
       " 'City_Wadi aldawaser',\n",
       " 'City_Washington',\n",
       " 'City_Zraqa',\n",
       " 'Season_Autumn',\n",
       " 'Season_spring',\n",
       " 'Season_summer',\n",
       " 'Season_winter',\n",
       " 'Contact_Animal_No',\n",
       " 'Contact_Animal_Yes',\n",
       " 'Medical_state_before_Smoker',\n",
       " 'Medical_state_before_chronic diseases',\n",
       " 'Medical_state_before_good condition',\n",
       " 'Medical_state_before_medical condition',\n",
       " 'Medical_state_before_pregnant',\n",
       " 'Medical_state_after_Critical',\n",
       " 'Medical_state_after_Stable',\n",
       " 'Medical_state_after_unknown',\n",
       " 'Infection_Causes_Air',\n",
       " 'Infection_Causes_Direct Contact',\n",
       " 'Infection_Causes_Healthcare Worker',\n",
       " 'Infection_Causes_unknown',\n",
       " 'Traveling_No',\n",
       " 'Traveling_Yes',\n",
       " 'Sex_Female',\n",
       " 'Sex_Male',\n",
       " 'Infection_Month_1',\n",
       " 'Infection_Month_2',\n",
       " 'Infection_Month_3',\n",
       " 'Infection_Month_4',\n",
       " 'Infection_Month_5',\n",
       " 'Infection_Month_6',\n",
       " 'Infection_Month_7',\n",
       " 'Infection_Month_8',\n",
       " 'Infection_Month_9',\n",
       " 'Infection_Month_10',\n",
       " 'Infection_Month_11',\n",
       " 'Infection_Month_12',\n",
       " 'Infection_Year_2012',\n",
       " 'Infection_Year_2013',\n",
       " 'Infection_Year_2014',\n",
       " 'Infection_Year_2015']"
      ]
     },
     "execution_count": 290,
     "metadata": {},
     "output_type": "execute_result"
    }
   ],
   "source": [
    "## anew columns name\n",
    "list(cor.columns)"
   ]
  },
  {
   "cell_type": "markdown",
   "metadata": {},
   "source": [
    "# The baseline Accuracy"
   ]
  },
  {
   "cell_type": "code",
   "execution_count": 291,
   "metadata": {},
   "outputs": [
    {
     "data": {
      "text/plain": [
       "0.6231617647058824"
      ]
     },
     "execution_count": 291,
     "metadata": {},
     "output_type": "execute_result"
    }
   ],
   "source": [
    "#calculate the baseline accuracy\n",
    "accuracy_bas=1-cor.Survived.mean()\n",
    "accuracy_bas"
   ]
  },
  {
   "cell_type": "code",
   "execution_count": 292,
   "metadata": {},
   "outputs": [],
   "source": [
    "from sklearn.linear_model import LogisticRegression\n",
    "from sklearn.model_selection import train_test_split\n",
    "from sklearn import metrics\n",
    "from sklearn.metrics import confusion_matrix\n",
    "from sklearn.metrics import mean_squared_error"
   ]
  },
  {
   "cell_type": "markdown",
   "metadata": {},
   "source": [
    "# Logistic regeession with the benefit of Age"
   ]
  },
  {
   "cell_type": "code",
   "execution_count": 293,
   "metadata": {},
   "outputs": [
    {
     "name": "stdout",
     "output_type": "stream",
     "text": [
      "(870, 143) (218, 143) (870,) (218,)\n"
     ]
    }
   ],
   "source": [
    "#Selecting Features \n",
    "#Create X and y\n",
    "X =cor.drop(columns=['Survived','Deaths_or_recovered','Age_bins_adult','Age_bins_old','Age_bins_child','Infection_Month_1','Infection_Month_2','Infection_Month_3','Infection_Month_4',\n",
    "                    'Infection_Month_5','Infection_Month_6','Infection_Month_7','Infection_Month_8','Infection_Month_9','Infection_Month_10',\n",
    "                    'Infection_Month_11','Infection_Month_12'])# Features\n",
    "y = cor['Survived'] # Target variable\n",
    "# Split the data into training and testing sets\n",
    "X_train, X_test, y_train, y_test = train_test_split(X, y, test_size=0.20)\n",
    "print(X_train.shape, X_test.shape, y_train.shape, y_test.shape)"
   ]
  },
  {
   "cell_type": "code",
   "execution_count": 294,
   "metadata": {},
   "outputs": [
    {
     "name": "stderr",
     "output_type": "stream",
     "text": [
      "C:\\anaconda\\lib\\site-packages\\sklearn\\linear_model\\logistic.py:433: FutureWarning: Default solver will be changed to 'lbfgs' in 0.22. Specify a solver to silence this warning.\n",
      "  FutureWarning)\n"
     ]
    },
    {
     "data": {
      "text/plain": [
       "LogisticRegression(C=1.0, class_weight=None, dual=False, fit_intercept=True,\n",
       "          intercept_scaling=1, max_iter=100, multi_class='warn',\n",
       "          n_jobs=None, penalty='l2', random_state=None, solver='warn',\n",
       "          tol=0.0001, verbose=0, warm_start=False)"
      ]
     },
     "execution_count": 294,
     "metadata": {},
     "output_type": "execute_result"
    }
   ],
   "source": [
    "# Fit a logistic regression model\n",
    "LR = LogisticRegression()\n",
    "LR.fit(X_train,y_train)"
   ]
  },
  {
   "cell_type": "code",
   "execution_count": 295,
   "metadata": {},
   "outputs": [
    {
     "name": "stdout",
     "output_type": "stream",
     "text": [
      "[1 0 1 0 0]\n",
      "0.7844036697247706\n"
     ]
    }
   ],
   "source": [
    "y_pred= LR.predict(X_test)\n",
    "print(y_pred[:5])\n",
    "print((metrics.accuracy_score(y_test, y_pred)))"
   ]
  },
  {
   "cell_type": "code",
   "execution_count": 296,
   "metadata": {},
   "outputs": [
    {
     "data": {
      "text/plain": [
       "0.7844036697247706"
      ]
     },
     "execution_count": 296,
     "metadata": {},
     "output_type": "execute_result"
    }
   ],
   "source": [
    "LR.score(X_test, y_test)"
   ]
  },
  {
   "cell_type": "code",
   "execution_count": 297,
   "metadata": {},
   "outputs": [
    {
     "data": {
      "text/plain": [
       "array([[-0.03211681, -0.04306517,  0.21124007, -0.05133311, -0.37906951,\n",
       "        -0.03003564, -0.24905355, -0.03222495,  0.12439594, -1.08772308,\n",
       "        -0.05323581,  0.43215586, -0.05346722, -0.20551391,  0.12401681,\n",
       "        -0.34090956,  0.53803664,  1.75301086, -0.53576683,  0.39705333,\n",
       "        -0.16114724, -0.2036666 ,  0.        , -0.29363915,  0.3697699 ,\n",
       "        -0.3597168 , -0.02935958, -0.13757742, -0.26678419, -0.0174539 ,\n",
       "         0.        , -0.05170291, -0.06275095,  0.02790205, -0.45161902,\n",
       "        -0.34259288, -0.04975994, -0.04306517,  0.        ,  0.4059624 ,\n",
       "         0.41711868,  0.03300641, -0.31772039,  0.62207848,  0.        ,\n",
       "        -0.31324354, -0.33912525, -0.85131835, -0.20551391,  0.20649952,\n",
       "        -0.07307184, -0.08312919, -0.03222495, -0.16114724, -0.01903745,\n",
       "        -0.24905355, -0.10873473, -0.32348764, -0.37906951, -0.0671389 ,\n",
       "         0.47662322,  0.26320647, -0.6423839 ,  0.58466733,  0.44472823,\n",
       "        -0.25837583,  0.79508534, -0.02935958,  0.31936523,  0.07663084,\n",
       "        -0.10902902, -0.21209246,  0.        , -0.13597027,  0.        ,\n",
       "        -0.05133311, -0.18366113, -0.53576683, -0.1277293 , -0.05346722,\n",
       "         0.95008478, -0.06847003,  0.19286597, -0.19806633,  0.19304234,\n",
       "        -0.05323581,  0.43215586,  0.3697699 ,  0.05255945,  0.39705333,\n",
       "        -0.34090956, -0.15204978, -0.05301332,  0.57618571, -0.69790311,\n",
       "        -0.03003564,  0.        , -0.17311831,  0.297004  ,  0.78521916,\n",
       "        -0.54904703,  0.32585547,  0.7019931 , -0.45161902, -0.04663069,\n",
       "        -0.2500239 , -0.01780942,  0.17462851,  0.62509369, -0.19682116,\n",
       "         0.2730636 ,  0.15673818, -0.2036666 ,  0.21124007, -0.1826429 ,\n",
       "        -0.3597168 , -0.23640472,  0.42608879, -0.40005082, -0.24497479,\n",
       "         0.05968852, -0.12191104, -0.03733725, -0.17727821,  0.09901783,\n",
       "         0.18915782,  0.6350092 , -0.90515493, -0.60678099,  1.13187273,\n",
       "        -0.68434003, -0.8498533 ,  0.26904246,  0.56602846, -0.14446592,\n",
       "        -0.58203196,  0.42278366,  0.05842459, -0.21767288, -0.26956759,\n",
       "        -0.22538452,  0.01550393,  0.32019988]])"
      ]
     },
     "execution_count": 297,
     "metadata": {},
     "output_type": "execute_result"
    }
   ],
   "source": [
    "#examine the coefficients\n",
    "LR.coef_"
   ]
  },
  {
   "cell_type": "code",
   "execution_count": 298,
   "metadata": {},
   "outputs": [
    {
     "data": {
      "text/plain": [
       "array([-0.1592483])"
      ]
     },
     "execution_count": 298,
     "metadata": {},
     "output_type": "execute_result"
    }
   ],
   "source": [
    "LR.intercept_"
   ]
  },
  {
   "cell_type": "code",
   "execution_count": 299,
   "metadata": {},
   "outputs": [],
   "source": [
    "## Model Evaluation using Confusion Matrix"
   ]
  },
  {
   "cell_type": "code",
   "execution_count": 300,
   "metadata": {},
   "outputs": [
    {
     "data": {
      "text/plain": [
       "array([[120,  23],\n",
       "       [ 24,  51]], dtype=int64)"
      ]
     },
     "execution_count": 300,
     "metadata": {},
     "output_type": "execute_result"
    }
   ],
   "source": [
    "cm = metrics.confusion_matrix(y_test, y_pred)\n",
    "cm"
   ]
  },
  {
   "cell_type": "code",
   "execution_count": 301,
   "metadata": {},
   "outputs": [
    {
     "data": {
      "text/html": [
       "<div>\n",
       "<style scoped>\n",
       "    .dataframe tbody tr th:only-of-type {\n",
       "        vertical-align: middle;\n",
       "    }\n",
       "\n",
       "    .dataframe tbody tr th {\n",
       "        vertical-align: top;\n",
       "    }\n",
       "\n",
       "    .dataframe thead th {\n",
       "        text-align: right;\n",
       "    }\n",
       "</style>\n",
       "<table border=\"1\" class=\"dataframe\">\n",
       "  <thead>\n",
       "    <tr style=\"text-align: right;\">\n",
       "      <th></th>\n",
       "      <th>predict_deceased</th>\n",
       "      <th>predict_survived</th>\n",
       "    </tr>\n",
       "  </thead>\n",
       "  <tbody>\n",
       "    <tr>\n",
       "      <th>deceased</th>\n",
       "      <td>120</td>\n",
       "      <td>23</td>\n",
       "    </tr>\n",
       "    <tr>\n",
       "      <th>survived</th>\n",
       "      <td>24</td>\n",
       "      <td>51</td>\n",
       "    </tr>\n",
       "  </tbody>\n",
       "</table>\n",
       "</div>"
      ],
      "text/plain": [
       "          predict_deceased  predict_survived\n",
       "deceased               120                23\n",
       "survived                24                51"
      ]
     },
     "execution_count": 301,
     "metadata": {},
     "output_type": "execute_result"
    }
   ],
   "source": [
    "cm = np.array(metrics.confusion_matrix(y_test, y_pred, labels=[0.0, 1.0]))\n",
    "\n",
    "cm = pd.DataFrame(cm, index=['deceased', 'survived'],\n",
    "\n",
    "                             columns=['predict_deceased',\n",
    "\n",
    "                                      'predict_survived']); cm"
   ]
  },
  {
   "cell_type": "code",
   "execution_count": 302,
   "metadata": {},
   "outputs": [
    {
     "data": {
      "image/png": "[encoded data removed]",
      "text/plain": [
       "<Figure size 576x360 with 2 Axes>"
      ]
     },
     "metadata": {
      "needs_background": "light"
     },
     "output_type": "display_data"
    }
   ],
   "source": [
    "#Visualizing Confusion Matrix using Heatmap\n",
    "plt.subplots(figsize=(8, 5))\n",
    "\n",
    "plt.title('Confusion Matrix visualized',\n",
    "\n",
    "          fontweight='bold', fontsize=16)\n",
    "\n",
    "sns.heatmap(cm, annot=True, cmap='viridis', fmt='')\n",
    "\n",
    "plt.rcParams['xtick.labelsize']=14\n",
    "\n",
    "plt.rcParams['ytick.labelsize']=14\n",
    "\n",
    "plt.yticks(rotation=0);"
   ]
  },
  {
   "cell_type": "markdown",
   "metadata": {},
   "source": [
    "- **True positives (TP):** These are cases in which we predicted (Recovered), and they actually are recovered.\n",
    "- **True negatives (TN):** We predicted (Death), and they are death.\n",
    "- **False positives (FP):** We predicted Recovered, but they were not actually recovered. \n",
    "- **False negatives (FN):** We predicted Death, but they are Recovered. \n"
   ]
  },
  {
   "cell_type": "code",
   "execution_count": 303,
   "metadata": {},
   "outputs": [
    {
     "name": "stdout",
     "output_type": "stream",
     "text": [
      "              precision    recall  f1-score   support\n",
      "\n",
      "           0       0.83      0.84      0.84       143\n",
      "           1       0.69      0.68      0.68        75\n",
      "\n",
      "   micro avg       0.78      0.78      0.78       218\n",
      "   macro avg       0.76      0.76      0.76       218\n",
      "weighted avg       0.78      0.78      0.78       218\n",
      "\n"
     ]
    }
   ],
   "source": [
    "#Confusion Matrix Evaluation Metrics\n",
    "#We can check precision, recall,f1-score using classification report\n",
    "print(metrics.classification_report(y_test, y_pred))"
   ]
  },
  {
   "cell_type": "code",
   "execution_count": 304,
   "metadata": {},
   "outputs": [
    {
     "name": "stdout",
     "output_type": "stream",
     "text": [
      "Accuracy: 0.7844036697247706\n",
      "Precision: 0.6891891891891891\n"
     ]
    }
   ],
   "source": [
    "print(\"Accuracy:\",metrics.accuracy_score(y_test, y_pred))\n",
    "print(\"Precision:\",metrics.precision_score(y_test, y_pred))"
   ]
  },
  {
   "cell_type": "code",
   "execution_count": 305,
   "metadata": {},
   "outputs": [
    {
     "data": {
      "text/plain": [
       "0.21559633027522937"
      ]
     },
     "execution_count": 305,
     "metadata": {},
     "output_type": "execute_result"
    }
   ],
   "source": [
    "error=mean_squared_error(y_test, y_pred)\n",
    "error"
   ]
  },
  {
   "cell_type": "code",
   "execution_count": 306,
   "metadata": {},
   "outputs": [
    {
     "data": {
      "text/plain": [
       "Index(['Age', 'Deaths_or_recovered', 'Survived', 'Country_Algeria',\n",
       "       'Country_Austria', 'Country_China', 'Country_Egypt', 'Country_France',\n",
       "       'Country_Germany', 'Country_Greece',\n",
       "       ...\n",
       "       'Infection_Month_7', 'Infection_Month_8', 'Infection_Month_9',\n",
       "       'Infection_Month_10', 'Infection_Month_11', 'Infection_Month_12',\n",
       "       'Infection_Year_2012', 'Infection_Year_2013', 'Infection_Year_2014',\n",
       "       'Infection_Year_2015'],\n",
       "      dtype='object', length=160)"
      ]
     },
     "execution_count": 306,
     "metadata": {},
     "output_type": "execute_result"
    }
   ],
   "source": [
    "cor.columns"
   ]
  },
  {
   "cell_type": "markdown",
   "metadata": {},
   "source": [
    "## THE ROC CURVE"
   ]
  },
  {
   "cell_type": "code",
   "execution_count": 307,
   "metadata": {},
   "outputs": [],
   "source": [
    "#Receiver Operating Characteristic(ROC) curve is a plot of the true positive rate against the false positive rate"
   ]
  },
  {
   "cell_type": "code",
   "execution_count": 308,
   "metadata": {},
   "outputs": [
    {
     "data": {
      "image/png": "[encoded data removed]",
      "text/plain": [
       "<Figure size 432x288 with 1 Axes>"
      ]
     },
     "metadata": {
      "needs_background": "light"
     },
     "output_type": "display_data"
    }
   ],
   "source": [
    "from sklearn.metrics import roc_auc_score\n",
    "from sklearn.metrics import roc_curve\n",
    "logit_roc_auc = roc_auc_score(y_test, LR.predict(X_test))\n",
    "fpr, tpr, thresholds = roc_curve(y_test, LR.predict_proba(X_test)[:,1])\n",
    "plt.figure()\n",
    "plt.plot(fpr, tpr, label='Logistic Regression (AUC = %0.2f)' % logit_roc_auc)\n",
    "plt.plot([0, 1], [0, 1],'r--')\n",
    "plt.xlim([0.0, 1.0])\n",
    "plt.ylim([0.0, 1.05])\n",
    "plt.xlabel('False Positive Rate')\n",
    "plt.ylabel('True Positive Rate')\n",
    "plt.title('Receiver operating characteristic')\n",
    "plt.legend(loc=\"lower right\")\n",
    "plt.savefig('Log_ROC')\n",
    "plt.show()"
   ]
  },
  {
   "cell_type": "markdown",
   "metadata": {},
   "source": [
    "**True positive rate (TPR)** how many were accurately predicted to belong to that class\n",
    "\n",
    "\n",
    "**False positive rate (FPR)** how many were predicted as belonging to that target class label"
   ]
  },
  {
   "cell_type": "markdown",
   "metadata": {},
   "source": [
    "# Over-sampling using SMOTE"
   ]
  },
  {
   "cell_type": "markdown",
   "metadata": {},
   "source": [
    "**Imbalanced Dataset**\n",
    "\n",
    "So we going to use SMOTE with accuracy : 0.7477064220183486 "
   ]
  },
  {
   "cell_type": "code",
   "execution_count": 309,
   "metadata": {},
   "outputs": [
    {
     "name": "stdout",
     "output_type": "stream",
     "text": [
      "Before OverSampling, counts of label '1': 335\n",
      "Before OverSampling, counts of label '0': 535 \n",
      "\n",
      "After OverSampling, the shape of train_X: (1110, 143)\n",
      "After OverSampling, the shape of train_y: (1110,) \n",
      "\n",
      "After OverSampling, counts of label '1': 555\n",
      "After OverSampling, counts of label '0': 555\n"
     ]
    }
   ],
   "source": [
    "\n",
    "print(\"Before OverSampling, counts of label '1': {}\".format(sum(y_train == 1))) \n",
    "print(\"Before OverSampling, counts of label '0': {} \\n\".format(sum(y_train == 0))) \n",
    " \n",
    "# import SMOTE module from imblearn library  \n",
    "from imblearn.over_sampling import SMOTE \n",
    "X_train, X_test, y_train, y_test = train_test_split(X, y, test_size=0.2, random_state=0)\n",
    "sm = SMOTE() \n",
    "X_train, y_train = sm.fit_sample(X_train, y_train) \n",
    "  \n",
    "print('After OverSampling, the shape of train_X: {}'.format(X_train.shape)) \n",
    "print('After OverSampling, the shape of train_y: {} \\n'.format(y_train.shape)) \n",
    "  \n",
    "print(\"After OverSampling, counts of label '1': {}\".format(sum(y_train == 1))) \n",
    "print(\"After OverSampling, counts of label '0': {}\".format(sum(y_train == 0))) \n"
   ]
  },
  {
   "cell_type": "code",
   "execution_count": 310,
   "metadata": {},
   "outputs": [
    {
     "name": "stdout",
     "output_type": "stream",
     "text": [
      "0.7522935779816514\n"
     ]
    },
    {
     "name": "stderr",
     "output_type": "stream",
     "text": [
      "C:\\anaconda\\lib\\site-packages\\sklearn\\linear_model\\logistic.py:433: FutureWarning: Default solver will be changed to 'lbfgs' in 0.22. Specify a solver to silence this warning.\n",
      "  FutureWarning)\n"
     ]
    }
   ],
   "source": [
    "LR = LogisticRegression()\n",
    "LR.fit(X_train,y_train)\n",
    "y_pred= LR.predict(X_test)\n",
    "print((metrics.accuracy_score(y_test, y_pred)))"
   ]
  },
  {
   "cell_type": "code",
   "execution_count": 311,
   "metadata": {},
   "outputs": [
    {
     "data": {
      "text/plain": [
       "array([[101,  22],\n",
       "       [ 32,  63]], dtype=int64)"
      ]
     },
     "execution_count": 311,
     "metadata": {},
     "output_type": "execute_result"
    }
   ],
   "source": [
    "confusion_matrix(y_test, y_pred)"
   ]
  },
  {
   "cell_type": "code",
   "execution_count": 312,
   "metadata": {},
   "outputs": [
    {
     "name": "stdout",
     "output_type": "stream",
     "text": [
      "              precision    recall  f1-score   support\n",
      "\n",
      "           0       0.76      0.82      0.79       123\n",
      "           1       0.74      0.66      0.70        95\n",
      "\n",
      "   micro avg       0.75      0.75      0.75       218\n",
      "   macro avg       0.75      0.74      0.74       218\n",
      "weighted avg       0.75      0.75      0.75       218\n",
      "\n"
     ]
    }
   ],
   "source": [
    "#We can check precision, recall,f1-score using classification report\n",
    "print(metrics.classification_report(y_test, y_pred))"
   ]
  },
  {
   "cell_type": "markdown",
   "metadata": {},
   "source": [
    "## THE ROC CURVE"
   ]
  },
  {
   "cell_type": "code",
   "execution_count": 313,
   "metadata": {},
   "outputs": [
    {
     "data": {
      "image/png": "[encoded data removed]",
      "text/plain": [
       "<Figure size 432x288 with 1 Axes>"
      ]
     },
     "metadata": {
      "needs_background": "light"
     },
     "output_type": "display_data"
    }
   ],
   "source": [
    "from sklearn.metrics import roc_auc_score\n",
    "from sklearn.metrics import roc_curve\n",
    "logit_roc_auc = roc_auc_score(y_test, LR.predict(X_test))\n",
    "fpr, tpr, thresholds = roc_curve(y_test, LR.predict_proba(X_test)[:,1])\n",
    "plt.figure()\n",
    "plt.plot(fpr, tpr, label='Logistic Regression (AUC = %0.2f)' % logit_roc_auc)\n",
    "plt.plot([0, 1], [0, 1],'r--')\n",
    "plt.xlim([0.0, 1.0])\n",
    "plt.ylim([0.0, 1.05])\n",
    "plt.xlabel('False Positive Rate')\n",
    "plt.ylabel('True Positive Rate')\n",
    "plt.title('Receiver operating characteristic')\n",
    "plt.legend(loc=\"lower right\")\n",
    "plt.savefig('Log_ROC')\n",
    "plt.show()"
   ]
  },
  {
   "cell_type": "markdown",
   "metadata": {},
   "source": [
    "**True positive rate (TPR)** how many were accurately predicted to belong to that class\n",
    "\n",
    "\n",
    "**False positive rate (FPR)** how many were predicted as belonging to that target class label"
   ]
  },
  {
   "cell_type": "markdown",
   "metadata": {},
   "source": [
    "# Logistic regeession without  the benefit of Age"
   ]
  },
  {
   "cell_type": "code",
   "execution_count": 314,
   "metadata": {},
   "outputs": [
    {
     "name": "stdout",
     "output_type": "stream",
     "text": [
      "(870, 142) (218, 142) (870,) (218,)\n"
     ]
    }
   ],
   "source": [
    "#Selecting Features \n",
    "#Create X and y\n",
    "X =cor.drop(columns=['Survived','Deaths_or_recovered','Age_bins_adult','Age_bins_old','Age_bins_child','Infection_Month_1','Infection_Month_2','Infection_Month_3','Infection_Month_4',\n",
    "                    'Infection_Month_5','Infection_Month_6','Infection_Month_7','Infection_Month_8','Infection_Month_9','Infection_Month_10',\n",
    "                    'Infection_Month_11','Infection_Month_12','Age'])# Features\n",
    "y = cor['Survived']# Target variable\n",
    "# Split the data into training and testing sets\n",
    "X_train, X_test, y_train, y_test = train_test_split(X, y, test_size=0.20)\n",
    "print(X_train.shape, X_test.shape, y_train.shape, y_test.shape)"
   ]
  },
  {
   "cell_type": "code",
   "execution_count": 315,
   "metadata": {},
   "outputs": [
    {
     "name": "stderr",
     "output_type": "stream",
     "text": [
      "C:\\anaconda\\lib\\site-packages\\sklearn\\linear_model\\logistic.py:433: FutureWarning: Default solver will be changed to 'lbfgs' in 0.22. Specify a solver to silence this warning.\n",
      "  FutureWarning)\n"
     ]
    },
    {
     "data": {
      "text/plain": [
       "LogisticRegression(C=1.0, class_weight=None, dual=False, fit_intercept=True,\n",
       "          intercept_scaling=1, max_iter=100, multi_class='warn',\n",
       "          n_jobs=None, penalty='l2', random_state=None, solver='warn',\n",
       "          tol=0.0001, verbose=0, warm_start=False)"
      ]
     },
     "execution_count": 315,
     "metadata": {},
     "output_type": "execute_result"
    }
   ],
   "source": [
    "# Fit a logistic regression model\n",
    "LR = LogisticRegression()\n",
    "LR.fit(X_train,y_train)"
   ]
  },
  {
   "cell_type": "code",
   "execution_count": 316,
   "metadata": {},
   "outputs": [
    {
     "name": "stdout",
     "output_type": "stream",
     "text": [
      "[1 1 1 0 0 0 1 1 0 0 0 0 0 1 0 0 1 0 0 0 0 0 0 1 1 1 0 0 1 0]\n",
      "0.7889908256880734\n"
     ]
    }
   ],
   "source": [
    "y_pred= LR.predict(X_test)\n",
    "print(y_pred[:30])\n",
    "print((metrics.accuracy_score(y_test, y_pred)))"
   ]
  },
  {
   "cell_type": "code",
   "execution_count": 317,
   "metadata": {},
   "outputs": [
    {
     "data": {
      "text/plain": [
       "0.7889908256880734"
      ]
     },
     "execution_count": 317,
     "metadata": {},
     "output_type": "execute_result"
    }
   ],
   "source": [
    "LR.score(X_test, y_test)"
   ]
  },
  {
   "cell_type": "code",
   "execution_count": 318,
   "metadata": {},
   "outputs": [
    {
     "data": {
      "text/plain": [
       "array([[-0.04312283,  0.3144367 , -0.05255409, -0.31080932,  0.        ,\n",
       "        -0.31011027, -0.04312283,  0.19827504, -1.02501385, -0.12438526,\n",
       "         0.36347105, -0.05500821, -0.47053038,  0.10565595, -0.23904926,\n",
       "         0.51971702,  1.73021265, -0.58259988,  0.36834917, -0.17166856,\n",
       "        -0.2204406 ,  0.        , -0.27866016,  0.33364557, -0.49071155,\n",
       "         0.        , -0.14000729,  0.        , -0.06140802, -0.36240507,\n",
       "        -0.12684721, -0.06492525, -0.07079821, -0.4694707 , -0.34892096,\n",
       "        -0.13190301, -0.04312283,  0.73866402,  0.17199368,  0.62879528,\n",
       "         0.22796729, -0.22292954,  0.61176148,  0.09822569, -0.11833833,\n",
       "        -0.33702557, -0.73448941, -0.47053038,  0.20761331, -0.11456536,\n",
       "        -0.32058699, -0.04312283, -0.17166856,  0.        , -0.31011027,\n",
       "        -0.12966579, -0.77951521, -0.31080932, -0.18490963,  0.44014212,\n",
       "         0.32046852, -0.78311749,  0.51971702,  0.27872246, -0.18308672,\n",
       "         0.44295806,  0.        ,  0.24446205,  0.12257434, -0.19303088,\n",
       "        -0.19109766,  0.        , -0.19109766,  0.        , -0.05255409,\n",
       "        -0.1604665 , -0.58259988, -0.33565176, -0.05500821,  1.05078981,\n",
       "        -0.15091866,  0.3491937 , -0.12970443,  0.24739368, -0.12438526,\n",
       "         0.36347105,  0.33364557,  0.14266438,  0.36834917, -0.23904926,\n",
       "        -0.14865564, -0.02990294,  0.67761459,  0.        ,  0.        ,\n",
       "         0.        ,  0.        ,  0.53310625,  0.74572064, -0.51373498,\n",
       "         0.        ,  0.43264183, -0.4694707 ,  0.        , -0.28688839,\n",
       "         0.        ,  0.27239866,  0.73498551, -0.0759268 ,  0.3187063 ,\n",
       "         0.1414721 , -0.2204406 ,  0.3144367 , -0.59857895, -0.49071155,\n",
       "        -0.29052444,  0.3037368 , -0.30875368, -0.48969044,  0.01068342,\n",
       "        -0.38167261, -0.10235129, -0.1506638 , -0.35666968,  0.19394835,\n",
       "         0.32858718, -0.49922595, -0.5233137 ,  1.09105279, -1.05176299,\n",
       "        -0.93478914,  0.19551622,  0.75428384, -0.49903483, -0.66159635,\n",
       "         0.17757245, -0.03829843, -0.44572547,  0.13139438, -0.5606054 ,\n",
       "        -0.21262094,  0.15780806]])"
      ]
     },
     "execution_count": 318,
     "metadata": {},
     "output_type": "execute_result"
    }
   ],
   "source": [
    "LR.coef_"
   ]
  },
  {
   "cell_type": "code",
   "execution_count": 319,
   "metadata": {},
   "outputs": [
    {
     "data": {
      "text/plain": [
       "array([-0.4840239])"
      ]
     },
     "execution_count": 319,
     "metadata": {},
     "output_type": "execute_result"
    }
   ],
   "source": [
    "LR.intercept_"
   ]
  },
  {
   "cell_type": "code",
   "execution_count": 320,
   "metadata": {},
   "outputs": [],
   "source": [
    "## Model Evaluation using Confusion Matrix"
   ]
  },
  {
   "cell_type": "code",
   "execution_count": 321,
   "metadata": {},
   "outputs": [
    {
     "data": {
      "text/html": [
       "<div>\n",
       "<style scoped>\n",
       "    .dataframe tbody tr th:only-of-type {\n",
       "        vertical-align: middle;\n",
       "    }\n",
       "\n",
       "    .dataframe tbody tr th {\n",
       "        vertical-align: top;\n",
       "    }\n",
       "\n",
       "    .dataframe thead th {\n",
       "        text-align: right;\n",
       "    }\n",
       "</style>\n",
       "<table border=\"1\" class=\"dataframe\">\n",
       "  <thead>\n",
       "    <tr style=\"text-align: right;\">\n",
       "      <th></th>\n",
       "      <th>predict_deceased</th>\n",
       "      <th>predict_survived</th>\n",
       "    </tr>\n",
       "  </thead>\n",
       "  <tbody>\n",
       "    <tr>\n",
       "      <th>deceased</th>\n",
       "      <td>120</td>\n",
       "      <td>16</td>\n",
       "    </tr>\n",
       "    <tr>\n",
       "      <th>survived</th>\n",
       "      <td>30</td>\n",
       "      <td>52</td>\n",
       "    </tr>\n",
       "  </tbody>\n",
       "</table>\n",
       "</div>"
      ],
      "text/plain": [
       "          predict_deceased  predict_survived\n",
       "deceased               120                16\n",
       "survived                30                52"
      ]
     },
     "execution_count": 321,
     "metadata": {},
     "output_type": "execute_result"
    }
   ],
   "source": [
    "cm = np.array(metrics.confusion_matrix(y_test, y_pred, labels=[0.0, 1.0]))\n",
    "\n",
    "cm = pd.DataFrame(cm, index=['deceased', 'survived'],\n",
    "\n",
    "                             columns=['predict_deceased',\n",
    "\n",
    "                                      'predict_survived']); cm"
   ]
  },
  {
   "cell_type": "code",
   "execution_count": 322,
   "metadata": {},
   "outputs": [
    {
     "data": {
      "image/png": "[encoded data removed]",
      "text/plain": [
       "<Figure size 576x360 with 2 Axes>"
      ]
     },
     "metadata": {
      "needs_background": "light"
     },
     "output_type": "display_data"
    }
   ],
   "source": [
    "#Visualizing Confusion Matrix using Heatmap\n",
    "plt.subplots(figsize=(8, 5))\n",
    "\n",
    "plt.title('Confusion Matrix visualized',\n",
    "\n",
    "          fontweight='bold', fontsize=16)\n",
    "\n",
    "sns.heatmap(cm, annot=True, cmap='viridis', fmt='')\n",
    "\n",
    "plt.rcParams['xtick.labelsize']=14\n",
    "\n",
    "plt.rcParams['ytick.labelsize']=14\n",
    "\n",
    "plt.yticks(rotation=0);"
   ]
  },
  {
   "cell_type": "markdown",
   "metadata": {},
   "source": [
    "- **True positives (TP):** These are cases in which we predicted (Recovered), and they actually are recovered.\n",
    "- **True negatives (TN):** We predicted (Death), and they are death.\n",
    "- **False positives (FP):** We predicted Recovered, but they were not actually recovered. \n",
    "- **False negatives (FN):** We predicted Death, but they are Recovered. "
   ]
  },
  {
   "cell_type": "code",
   "execution_count": 323,
   "metadata": {},
   "outputs": [
    {
     "name": "stdout",
     "output_type": "stream",
     "text": [
      "              precision    recall  f1-score   support\n",
      "\n",
      "           0       0.80      0.88      0.84       136\n",
      "           1       0.76      0.63      0.69        82\n",
      "\n",
      "   micro avg       0.79      0.79      0.79       218\n",
      "   macro avg       0.78      0.76      0.77       218\n",
      "weighted avg       0.79      0.79      0.78       218\n",
      "\n"
     ]
    }
   ],
   "source": [
    "#We can check precision, recall,f1-score using classification report\n",
    "print(metrics.classification_report(y_test, y_pred))"
   ]
  },
  {
   "cell_type": "code",
   "execution_count": 324,
   "metadata": {},
   "outputs": [
    {
     "name": "stdout",
     "output_type": "stream",
     "text": [
      "Accuracy: 0.7889908256880734\n",
      "Precision: 0.7647058823529411\n"
     ]
    }
   ],
   "source": [
    "print(\"Accuracy:\",metrics.accuracy_score(y_test, y_pred))\n",
    "print(\"Precision:\",metrics.precision_score(y_test, y_pred))"
   ]
  },
  {
   "cell_type": "code",
   "execution_count": 325,
   "metadata": {},
   "outputs": [
    {
     "data": {
      "text/plain": [
       "0.21100917431192662"
      ]
     },
     "execution_count": 325,
     "metadata": {},
     "output_type": "execute_result"
    }
   ],
   "source": [
    "error=mean_squared_error(y_test, y_pred)\n",
    "error"
   ]
  },
  {
   "cell_type": "markdown",
   "metadata": {},
   "source": [
    "## THE ROC CURVE"
   ]
  },
  {
   "cell_type": "code",
   "execution_count": 326,
   "metadata": {},
   "outputs": [],
   "source": [
    "#Receiver Operating Characteristic(ROC) curve is a plot of the true positive rate against the false positive rate"
   ]
  },
  {
   "cell_type": "code",
   "execution_count": 327,
   "metadata": {},
   "outputs": [
    {
     "data": {
      "image/png": "[encoded data removed]",
      "text/plain": [
       "<Figure size 432x288 with 1 Axes>"
      ]
     },
     "metadata": {
      "needs_background": "light"
     },
     "output_type": "display_data"
    }
   ],
   "source": [
    "from sklearn.metrics import roc_auc_score\n",
    "from sklearn.metrics import roc_curve\n",
    "logit_roc_auc = roc_auc_score(y_test, LR.predict(X_test))\n",
    "fpr, tpr, thresholds = roc_curve(y_test, LR.predict_proba(X_test)[:,1])\n",
    "plt.figure()\n",
    "plt.plot(fpr, tpr, label='Logistic Regression (AUC = %0.2f)' % logit_roc_auc)\n",
    "plt.plot([0, 1], [0, 1],'r--')\n",
    "plt.xlim([0.0, 1.0])\n",
    "plt.ylim([0.0, 1.05])\n",
    "plt.xlabel('False Positive Rate')\n",
    "plt.ylabel('True Positive Rate')\n",
    "plt.title('Receiver operating characteristic')\n",
    "plt.legend(loc=\"lower right\")\n",
    "plt.savefig('Log_ROC')\n",
    "plt.show()"
   ]
  },
  {
   "cell_type": "markdown",
   "metadata": {},
   "source": [
    "**True positive rate (TPR)** how many were accurately predicted to belong to that class\n",
    "\n",
    "\n",
    "**False positive rate (FPR)** how many were predicted as belonging to that target class label"
   ]
  },
  {
   "cell_type": "markdown",
   "metadata": {},
   "source": [
    "**Imbalanced Dataset**"
   ]
  },
  {
   "cell_type": "markdown",
   "metadata": {},
   "source": [
    "# Over-sampling using SMOTE"
   ]
  },
  {
   "cell_type": "code",
   "execution_count": 328,
   "metadata": {},
   "outputs": [
    {
     "name": "stdout",
     "output_type": "stream",
     "text": [
      "Before OverSampling, counts of label '1': 328\n",
      "Before OverSampling, counts of label '0': 542 \n",
      "\n",
      "After OverSampling, the shape of train_X: (1110, 142)\n",
      "After OverSampling, the shape of train_y: (1110,) \n",
      "\n",
      "After OverSampling, counts of label '1': 555\n",
      "After OverSampling, counts of label '0': 555\n"
     ]
    }
   ],
   "source": [
    "print(\"Before OverSampling, counts of label '1': {}\".format(sum(y_train == 1))) \n",
    "print(\"Before OverSampling, counts of label '0': {} \\n\".format(sum(y_train == 0))) \n",
    " \n",
    "# import SMOTE module from imblearn library  \n",
    "from imblearn.over_sampling import SMOTE \n",
    "X_train, X_test, y_train, y_test = train_test_split(X, y, test_size=0.2, random_state=0)\n",
    "sm = SMOTE() \n",
    "X_train, y_train = sm.fit_sample(X_train, y_train) \n",
    "  \n",
    "print('After OverSampling, the shape of train_X: {}'.format(X_train.shape)) \n",
    "print('After OverSampling, the shape of train_y: {} \\n'.format(y_train.shape)) \n",
    "  \n",
    "print(\"After OverSampling, counts of label '1': {}\".format(sum(y_train == 1))) \n",
    "print(\"After OverSampling, counts of label '0': {}\".format(sum(y_train == 0))) \n"
   ]
  },
  {
   "cell_type": "code",
   "execution_count": 329,
   "metadata": {},
   "outputs": [
    {
     "name": "stdout",
     "output_type": "stream",
     "text": [
      "0.7293577981651376\n"
     ]
    },
    {
     "name": "stderr",
     "output_type": "stream",
     "text": [
      "C:\\anaconda\\lib\\site-packages\\sklearn\\linear_model\\logistic.py:433: FutureWarning: Default solver will be changed to 'lbfgs' in 0.22. Specify a solver to silence this warning.\n",
      "  FutureWarning)\n",
      "C:\\anaconda\\lib\\site-packages\\sklearn\\svm\\base.py:931: ConvergenceWarning: Liblinear failed to converge, increase the number of iterations.\n",
      "  \"the number of iterations.\", ConvergenceWarning)\n"
     ]
    }
   ],
   "source": [
    "LR = LogisticRegression()\n",
    "LR.fit(X_train,y_train)\n",
    "y_pred= LR.predict(X_test)\n",
    "print((metrics.accuracy_score(y_test, y_pred)))"
   ]
  },
  {
   "cell_type": "code",
   "execution_count": 330,
   "metadata": {},
   "outputs": [
    {
     "data": {
      "text/plain": [
       "array([[98, 25],\n",
       "       [34, 61]], dtype=int64)"
      ]
     },
     "execution_count": 330,
     "metadata": {},
     "output_type": "execute_result"
    }
   ],
   "source": [
    "confusion_matrix(y_test, y_pred)"
   ]
  },
  {
   "cell_type": "code",
   "execution_count": 331,
   "metadata": {},
   "outputs": [
    {
     "name": "stdout",
     "output_type": "stream",
     "text": [
      "              precision    recall  f1-score   support\n",
      "\n",
      "           0       0.74      0.80      0.77       123\n",
      "           1       0.71      0.64      0.67        95\n",
      "\n",
      "   micro avg       0.73      0.73      0.73       218\n",
      "   macro avg       0.73      0.72      0.72       218\n",
      "weighted avg       0.73      0.73      0.73       218\n",
      "\n"
     ]
    }
   ],
   "source": [
    "#We can check precision, recall,f1-score using classification report\n",
    "print(metrics.classification_report(y_test, y_pred))"
   ]
  },
  {
   "cell_type": "markdown",
   "metadata": {},
   "source": [
    "## THE ROC CURVE"
   ]
  },
  {
   "cell_type": "code",
   "execution_count": 332,
   "metadata": {},
   "outputs": [],
   "source": [
    "#Receiver Operating Characteristic(ROC) curve is a plot of the true positive rate against the false positive rate"
   ]
  },
  {
   "cell_type": "code",
   "execution_count": 333,
   "metadata": {},
   "outputs": [
    {
     "data": {
      "image/png": "[encoded data removed]",
      "text/plain": [
       "<Figure size 432x288 with 1 Axes>"
      ]
     },
     "metadata": {
      "needs_background": "light"
     },
     "output_type": "display_data"
    }
   ],
   "source": [
    "from sklearn.metrics import roc_auc_score\n",
    "from sklearn.metrics import roc_curve\n",
    "logit_roc_auc = roc_auc_score(y_test, LR.predict(X_test))\n",
    "fpr, tpr, thresholds = roc_curve(y_test, LR.predict_proba(X_test)[:,1])\n",
    "plt.figure()\n",
    "plt.plot(fpr, tpr, label='Logistic Regression (AUC = %0.2f)' % logit_roc_auc)\n",
    "plt.plot([0, 1], [0, 1],'r--')\n",
    "plt.xlim([0.0, 1.0])\n",
    "plt.ylim([0.0, 1.05])\n",
    "plt.xlabel('False Positive Rate')\n",
    "plt.ylabel('True Positive Rate')\n",
    "plt.title('Receiver operating characteristic')\n",
    "plt.legend(loc=\"lower right\")\n",
    "plt.savefig('Log_ROC')\n",
    "plt.show()"
   ]
  },
  {
   "cell_type": "markdown",
   "metadata": {},
   "source": [
    "**True positive rate (TPR)** how many were accurately predicted to belong to that class\n",
    "\n",
    "\n",
    "**False positive rate (FPR)** how many were predicted as belonging to that target class label"
   ]
  },
  {
   "cell_type": "markdown",
   "metadata": {},
   "source": [
    "### by comparing the two version of logistic regression models we find that the age is important and effect on the model accurcy."
   ]
  },
  {
   "cell_type": "markdown",
   "metadata": {},
   "source": [
    "# Random forest"
   ]
  },
  {
   "cell_type": "markdown",
   "metadata": {},
   "source": [
    "### we derived feature importance. it's a ccurate way of selecting good feature for our model. The hiegher value the more important the feature."
   ]
  },
  {
   "cell_type": "code",
   "execution_count": 334,
   "metadata": {},
   "outputs": [
    {
     "name": "stdout",
     "output_type": "stream",
     "text": [
      "(761, 143) (327, 143) (761,) (327,)\n"
     ]
    }
   ],
   "source": [
    "#Selecting Features \n",
    "#Create X and y\n",
    "X =cor.drop(columns=['Survived','Deaths_or_recovered','Age_bins_adult','Age_bins_old','Age_bins_child','Infection_Month_1','Infection_Month_2','Infection_Month_3','Infection_Month_4',\n",
    "                    'Infection_Month_5','Infection_Month_6','Infection_Month_7','Infection_Month_8','Infection_Month_9','Infection_Month_10',\n",
    "                    'Infection_Month_11','Infection_Month_12'])\n",
    "y = cor['Survived']\n",
    "# Split the data into training and testing sets\n",
    "X_train, X_test, y_train, y_test = train_test_split(X, y, test_size=0.30)\n",
    "print(X_train.shape, X_test.shape, y_train.shape, y_test.shape)"
   ]
  },
  {
   "cell_type": "code",
   "execution_count": 335,
   "metadata": {},
   "outputs": [
    {
     "name": "stdout",
     "output_type": "stream",
     "text": [
      "Accuracy of RF classifier on training set: 0.97\n",
      "Accuracy of RF classifier on test set: 0.72\n"
     ]
    },
    {
     "name": "stderr",
     "output_type": "stream",
     "text": [
      "C:\\anaconda\\lib\\site-packages\\sklearn\\ensemble\\forest.py:246: FutureWarning: The default value of n_estimators will change from 10 in version 0.20 to 100 in 0.22.\n",
      "  \"10 in version 0.20 to 100 in 0.22.\", FutureWarning)\n"
     ]
    }
   ],
   "source": [
    "from sklearn.ensemble import RandomForestClassifier\n",
    "\n",
    "X_train, X_test, y_train, y_test = train_test_split(X, y, random_state = 0)\n",
    "\n",
    "clf = RandomForestClassifier(max_features = 2, random_state = 0).fit(X_train, y_train)\n",
    "\n",
    "print('Accuracy of RF classifier on training set: {:.2f}'\n",
    "     .format(clf.score(X_train, y_train)))\n",
    "print('Accuracy of RF classifier on test set: {:.2f}'\n",
    "     .format(clf.score(X_test, y_test)))"
   ]
  },
  {
   "cell_type": "code",
   "execution_count": 336,
   "metadata": {},
   "outputs": [
    {
     "data": {
      "text/html": [
       "<div>\n",
       "<style scoped>\n",
       "    .dataframe tbody tr th:only-of-type {\n",
       "        vertical-align: middle;\n",
       "    }\n",
       "\n",
       "    .dataframe tbody tr th {\n",
       "        vertical-align: top;\n",
       "    }\n",
       "\n",
       "    .dataframe thead th {\n",
       "        text-align: right;\n",
       "    }\n",
       "</style>\n",
       "<table border=\"1\" class=\"dataframe\">\n",
       "  <thead>\n",
       "    <tr style=\"text-align: right;\">\n",
       "      <th></th>\n",
       "      <th>Features</th>\n",
       "      <th>Importance Score</th>\n",
       "    </tr>\n",
       "  </thead>\n",
       "  <tbody>\n",
       "    <tr>\n",
       "      <th>0</th>\n",
       "      <td>Age</td>\n",
       "      <td>0.289959</td>\n",
       "    </tr>\n",
       "    <tr>\n",
       "      <th>129</th>\n",
       "      <td>Medical_state_after_Stable</td>\n",
       "      <td>0.096183</td>\n",
       "    </tr>\n",
       "    <tr>\n",
       "      <th>128</th>\n",
       "      <td>Medical_state_after_Critical</td>\n",
       "      <td>0.051547</td>\n",
       "    </tr>\n",
       "    <tr>\n",
       "      <th>130</th>\n",
       "      <td>Medical_state_after_unknown</td>\n",
       "      <td>0.033985</td>\n",
       "    </tr>\n",
       "    <tr>\n",
       "      <th>131</th>\n",
       "      <td>Infection_Causes_Air</td>\n",
       "      <td>0.030964</td>\n",
       "    </tr>\n",
       "  </tbody>\n",
       "</table>\n",
       "</div>"
      ],
      "text/plain": [
       "                         Features  Importance Score\n",
       "0                             Age          0.289959\n",
       "129    Medical_state_after_Stable          0.096183\n",
       "128  Medical_state_after_Critical          0.051547\n",
       "130   Medical_state_after_unknown          0.033985\n",
       "131          Infection_Causes_Air          0.030964"
      ]
     },
     "execution_count": 336,
     "metadata": {},
     "output_type": "execute_result"
    }
   ],
   "source": [
    "# Set features variable with the names of the features in X\n",
    "features = X.columns\n",
    "\"Feature columns:\", features\n",
    "\n",
    "# Set feature_importances variable using the attribute \"feature_importances_\".\n",
    "# The higher the score, the more important the feature in that particular combination.\n",
    "# If you changed the features in X it would impact the scores. Similar to coefficients.\n",
    "feature_importances = clf.feature_importances_\n",
    "\"Feature Importance scores:\", feature_importances\n",
    "\n",
    "# Create a dataframe of the features and their respective importance scores\n",
    "features_df = pd.DataFrame({'Features': features, 'Importance Score': feature_importances})\n",
    "\n",
    "# Sort the values by \"Importance Score\" with ascending in false to ensure\n",
    "# the score appear from highest to lowest in the new dataframe\n",
    "features_df.sort_values('Importance Score', inplace=True, ascending=False)\n",
    "\n",
    "features_df.head()"
   ]
  },
  {
   "cell_type": "code",
   "execution_count": 339,
   "metadata": {},
   "outputs": [],
   "source": [
    "### the most feature impact our model is age then the medidcal state of the patient "
   ]
  },
  {
   "cell_type": "code",
   "execution_count": 337,
   "metadata": {},
   "outputs": [],
   "source": [
    "y_pred= clf.predict(X_test)"
   ]
  },
  {
   "cell_type": "code",
   "execution_count": 338,
   "metadata": {},
   "outputs": [
    {
     "name": "stdout",
     "output_type": "stream",
     "text": [
      "              precision    recall  f1-score   support\n",
      "\n",
      "           0       0.72      0.86      0.78       156\n",
      "           1       0.74      0.54      0.63       116\n",
      "\n",
      "   micro avg       0.72      0.72      0.72       272\n",
      "   macro avg       0.73      0.70      0.70       272\n",
      "weighted avg       0.73      0.72      0.72       272\n",
      "\n"
     ]
    }
   ],
   "source": [
    "#We can check precision, recall,f1-score using classification report\n",
    "print(metrics.classification_report(y_test, y_pred))"
   ]
  }
 ],
 "metadata": {
  "kernelspec": {
   "display_name": "Python 3",
   "language": "python",
   "name": "python3"
  },
  "language_info": {
   "codemirror_mode": {
    "name": "ipython",
    "version": 3
   },
   "file_extension": ".py",
   "mimetype": "text/x-python",
   "name": "python",
   "nbconvert_exporter": "python",
   "pygments_lexer": "ipython3",
   "version": "3.7.3"
  }
 },
 "nbformat": 4,
 "nbformat_minor": 2
}
